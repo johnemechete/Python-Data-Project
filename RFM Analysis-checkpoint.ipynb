{
 "cells": [
  {
   "cell_type": "code",
   "execution_count": 30,
   "id": "abf61ed7",
   "metadata": {},
   "outputs": [],
   "source": [
    "import pandas as pd\n",
    "import plotly.express as px\n",
    "import plotly.io as pio\n",
    "import plotly.graph_objects as go\n",
    "pio.templates.default = \"plotly_white\""
   ]
  },
  {
   "cell_type": "code",
   "execution_count": 31,
   "id": "99bd0dab",
   "metadata": {},
   "outputs": [
    {
     "name": "stdout",
     "output_type": "stream",
     "text": [
      "   CustomerID PurchaseDate  TransactionAmount ProductInformation  OrderID  \\\n",
      "0        8814   2023-04-11             943.31          Product C   890075   \n",
      "1        2188   2023-04-11             463.70          Product A   176819   \n",
      "2        4608   2023-04-11              80.28          Product A   340062   \n",
      "3        2559   2023-04-11             221.29          Product A   239145   \n",
      "4        9482   2023-04-11             739.56          Product A   194545   \n",
      "\n",
      "   Location  \n",
      "0     Tokyo  \n",
      "1    London  \n",
      "2  New York  \n",
      "3    London  \n",
      "4     Paris  \n"
     ]
    }
   ],
   "source": [
    "data = pd.read_csv(\"rfm_data.csv\")\n",
    "print(data.head())"
   ]
  },
  {
   "cell_type": "markdown",
   "id": "687f301d",
   "metadata": {},
   "source": [
    "## Calculating RFM values"
   ]
  },
  {
   "cell_type": "markdown",
   "id": "91f719cd",
   "metadata": {},
   "source": [
    "### Recency"
   ]
  },
  {
   "cell_type": "code",
   "execution_count": 32,
   "id": "67e5fc6e",
   "metadata": {},
   "outputs": [
    {
     "name": "stdout",
     "output_type": "stream",
     "text": [
      "   CustomerID PurchaseDate  TransactionAmount ProductInformation  OrderID  \\\n",
      "0        8814   2023-04-11             943.31          Product C   890075   \n",
      "1        2188   2023-04-11             463.70          Product A   176819   \n",
      "\n",
      "  Location  Recency  \n",
      "0    Tokyo      158  \n",
      "1   London      158  \n"
     ]
    }
   ],
   "source": [
    "from datetime import datetime\n",
    "# Converting Purchase column to a datetime object\n",
    "data[\"PurchaseDate\"] = pd.to_datetime(data[\"PurchaseDate\"])\n",
    "# Creating recency column\n",
    "data[\"Recency\"] = (datetime.now().date() - data[\"PurchaseDate\"].dt.date).dt.days\n",
    "print(data.head(2))"
   ]
  },
  {
   "cell_type": "markdown",
   "id": "46c9926b",
   "metadata": {},
   "source": [
    "### Frequency"
   ]
  },
  {
   "cell_type": "code",
   "execution_count": 33,
   "id": "7f40642d",
   "metadata": {},
   "outputs": [
    {
     "name": "stdout",
     "output_type": "stream",
     "text": [
      "   CustomerID  Frequency\n",
      "0        1011          2\n",
      "1        1025          1\n",
      "2        1029          1\n"
     ]
    }
   ],
   "source": [
    "frequencey_data = data.groupby(\"CustomerID\")[\"OrderID\"].count().reset_index()\n",
    "frequencey_data.rename(columns = {\"OrderID\":\"Frequency\"}, inplace=True)\n",
    "print(frequencey_data.head(3))"
   ]
  },
  {
   "cell_type": "code",
   "execution_count": 34,
   "id": "4a57010f",
   "metadata": {},
   "outputs": [
    {
     "name": "stdout",
     "output_type": "stream",
     "text": [
      "   CustomerID PurchaseDate  TransactionAmount ProductInformation  OrderID  \\\n",
      "0        8814   2023-04-11             943.31          Product C   890075   \n",
      "1        2188   2023-04-11             463.70          Product A   176819   \n",
      "\n",
      "  Location  Recency  Frequency  \n",
      "0    Tokyo      158          1  \n",
      "1   London      158          1  \n"
     ]
    }
   ],
   "source": [
    "data = data.merge(frequencey_data,on = \"CustomerID\", how =\"left\")\n",
    "print(data.head(2))"
   ]
  },
  {
   "cell_type": "markdown",
   "id": "f21a0e9b",
   "metadata": {},
   "source": [
    "### Monteray"
   ]
  },
  {
   "cell_type": "code",
   "execution_count": 35,
   "id": "bc7f5f10",
   "metadata": {},
   "outputs": [
    {
     "name": "stdout",
     "output_type": "stream",
     "text": [
      "   CustomerID  MonteryValue\n",
      "0        1011       1129.02\n",
      "1        1025        359.29\n",
      "2        1029        704.99\n"
     ]
    }
   ],
   "source": [
    "monteray_data = data.groupby(\"CustomerID\")[\"TransactionAmount\"].sum().reset_index()\n",
    "monteray_data.rename(columns = {\"TransactionAmount\":\"MonteryValue\"}, inplace = True)\n",
    "print(monteray_data.head(3))"
   ]
  },
  {
   "cell_type": "code",
   "execution_count": 36,
   "id": "0aeae027",
   "metadata": {},
   "outputs": [
    {
     "name": "stdout",
     "output_type": "stream",
     "text": [
      "   CustomerID PurchaseDate  TransactionAmount ProductInformation  OrderID  \\\n",
      "0        8814   2023-04-11             943.31          Product C   890075   \n",
      "1        2188   2023-04-11             463.70          Product A   176819   \n",
      "2        4608   2023-04-11              80.28          Product A   340062   \n",
      "\n",
      "   Location  Recency  Frequency  MonteryValue  \n",
      "0     Tokyo      158          1        943.31  \n",
      "1    London      158          1        463.70  \n",
      "2  New York      158          1         80.28  \n"
     ]
    }
   ],
   "source": [
    "data = data.merge(monteray_data, on = \"CustomerID\", how = \"left\")\n",
    "print(data.head(3))"
   ]
  },
  {
   "cell_type": "markdown",
   "id": "34130deb",
   "metadata": {},
   "source": [
    "## Calculating RFM Score"
   ]
  },
  {
   "cell_type": "code",
   "execution_count": 41,
   "id": "19fd6819",
   "metadata": {},
   "outputs": [],
   "source": [
    "# Defining the criteria for each RFM value\n",
    "recency_score = [5,4,3,2,1] # The more recent customer get a higher recency score... the more recence value for the more recent customer will be lower\n",
    "frequency_score = [1,2,3,4,5]\n",
    "monetary_score = [1,2,3,4,5]"
   ]
  },
  {
   "cell_type": "code",
   "execution_count": 42,
   "id": "25c7dafe",
   "metadata": {},
   "outputs": [],
   "source": [
    "# Calculate RFM score\n",
    "data[\"RecencyScore\"] = pd.cut(data[\"Recency\"], bins = 5, labels = recency_score)\n",
    "data[\"FrequnceyScore\"] = pd.cut(data[\"Frequency\"], bins = 5, labels = frequency_score)\n",
    "data[\"MonetaryScore\"] = pd.cut(data[\"MonteryValue\"], bins = 5, labels= monetary_score)"
   ]
  },
  {
   "cell_type": "code",
   "execution_count": 40,
   "id": "f05976e2",
   "metadata": {},
   "outputs": [
    {
     "name": "stdout",
     "output_type": "stream",
     "text": [
      "     CustomerID PurchaseDate  TransactionAmount ProductInformation  OrderID  \\\n",
      "995        2970   2023-06-10             759.62          Product B   275284   \n",
      "996        6669   2023-06-10             941.50          Product C   987025   \n",
      "997        8836   2023-06-10             545.36          Product C   512842   \n",
      "998        1440   2023-06-10             729.94          Product B   559753   \n",
      "999        4759   2023-06-10             804.28          Product D   467544   \n",
      "\n",
      "     Location  Recency  Frequency  MonteryValue RecencyScore FrequnceyScore  \\\n",
      "995    London       98          1        759.62            5              1   \n",
      "996  New York       98          1        941.50            5              1   \n",
      "997    London       98          1        545.36            5              1   \n",
      "998     Paris       98          1        729.94            5              1   \n",
      "999  New York       98          1        804.28            5              1   \n",
      "\n",
      "    MonetaryScore  \n",
      "995             2  \n",
      "996             2  \n",
      "997             2  \n",
      "998             2  \n",
      "999             2  \n"
     ]
    }
   ],
   "source": [
    "print(data.tail())"
   ]
  },
  {
   "cell_type": "code",
   "execution_count": 43,
   "id": "aab77dda",
   "metadata": {},
   "outputs": [],
   "source": [
    "# Converting RFM to numeric data type\n",
    "data[\"RecencyScore\"] = data[\"RecencyScore\"].astype(int)\n",
    "data[\"FrequnceyScore\"] =data[\"FrequnceyScore\"].astype(int)\n",
    "data[\"MonetaryScore\"] = data[\"MonetaryScore\"].astype(int)"
   ]
  },
  {
   "cell_type": "code",
   "execution_count": 45,
   "id": "d4b1dcf7",
   "metadata": {},
   "outputs": [
    {
     "name": "stdout",
     "output_type": "stream",
     "text": [
      "   CustomerID PurchaseDate  TransactionAmount ProductInformation  OrderID  \\\n",
      "0        8814   2023-04-11             943.31          Product C   890075   \n",
      "1        2188   2023-04-11             463.70          Product A   176819   \n",
      "2        4608   2023-04-11              80.28          Product A   340062   \n",
      "3        2559   2023-04-11             221.29          Product A   239145   \n",
      "4        9482   2023-04-11             739.56          Product A   194545   \n",
      "\n",
      "   Location  Recency  Frequency  MonteryValue  RecencyScore  FrequnceyScore  \\\n",
      "0     Tokyo      158          1        943.31             1               1   \n",
      "1    London      158          1        463.70             1               1   \n",
      "2  New York      158          1         80.28             1               1   \n",
      "3    London      158          1        221.29             1               1   \n",
      "4     Paris      158          1        739.56             1               1   \n",
      "\n",
      "   MonetaryScore  \n",
      "0              2  \n",
      "1              1  \n",
      "2              1  \n",
      "3              1  \n",
      "4              2  \n"
     ]
    }
   ],
   "source": [
    "print(data.head())"
   ]
  },
  {
   "cell_type": "code",
   "execution_count": null,
   "id": "7d91e49a",
   "metadata": {},
   "outputs": [],
   "source": []
  }
 ],
 "metadata": {
  "kernelspec": {
   "display_name": "Python 3 (ipykernel)",
   "language": "python",
   "name": "python3"
  },
  "language_info": {
   "codemirror_mode": {
    "name": "ipython",
    "version": 3
   },
   "file_extension": ".py",
   "mimetype": "text/x-python",
   "name": "python",
   "nbconvert_exporter": "python",
   "pygments_lexer": "ipython3",
   "version": "3.9.13"
  }
 },
 "nbformat": 4,
 "nbformat_minor": 5
}
